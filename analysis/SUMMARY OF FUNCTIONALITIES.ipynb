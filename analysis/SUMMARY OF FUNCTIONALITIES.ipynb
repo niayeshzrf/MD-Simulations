{
 "cells": [
  {
   "cell_type": "code",
   "execution_count": null,
   "id": "a41ebd5e-975b-4369-bfd6-46de8f050941",
   "metadata": {},
   "outputs": [],
   "source": [
    "### To get te average structure from a specific trajectory. Also note that you need to select the frame as a trajectory in order to saved it. \n",
    "\n",
    "SYS3_1_avg = pt.get_average_frame(SYS3_1)\n",
    "selected = pt.Trajectory(top=topfiles[0])\n",
    "selected.append(SYS3_1_avg)\n",
    "selected.save('SYS3_1_avg.pdb', overwrite=True)"
   ]
  },
  {
   "cell_type": "code",
   "execution_count": null,
   "id": "df2cab0b-893e-4bf2-b135-623843395939",
   "metadata": {},
   "outputs": [],
   "source": [
    "def matrixfromvar(var1, var2):\n",
    "    matrix=[]\n",
    "\n",
    "    for i in range(len(var1)):\n",
    "        matrix.append([var1[i],var2[i]])\n",
    "    return matrix"
   ]
  }
 ],
 "metadata": {
  "kernelspec": {
   "display_name": "Python 3",
   "language": "python",
   "name": "python3"
  },
  "language_info": {
   "codemirror_mode": {
    "name": "ipython",
    "version": 3
   },
   "file_extension": ".py",
   "mimetype": "text/x-python",
   "name": "python",
   "nbconvert_exporter": "python",
   "pygments_lexer": "ipython3",
   "version": "3.8.12"
  }
 },
 "nbformat": 4,
 "nbformat_minor": 5
}
