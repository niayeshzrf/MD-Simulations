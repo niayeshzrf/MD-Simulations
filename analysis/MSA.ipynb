{
 "cells": [
  {
   "cell_type": "code",
   "execution_count": 12,
   "id": "056f1059-8f69-4644-af45-22d79ea13ee2",
   "metadata": {},
   "outputs": [],
   "source": [
    "from Bio import pairwise2\n",
    "from Bio.pairwise2 import format_alignment\n",
    "import Bio.AlignIO\n",
    "import rich\n",
    "from rich_msa import RichAlignment"
   ]
  },
  {
   "cell_type": "code",
   "execution_count": 23,
   "id": "7437a7f0-250f-4c4f-8548-7a9781d859f8",
   "metadata": {},
   "outputs": [],
   "source": [
    "with open('../BLAST/1E2K_blastp_31seq_align.fasta') as f:\n",
    "    lines= f.readlines()"
   ]
  },
  {
   "cell_type": "code",
   "execution_count": 29,
   "id": "5cd8c2d1-1e02-424f-904f-caa54e718b34",
   "metadata": {},
   "outputs": [
    {
     "data": {
      "text/plain": [
       "['>YP_009137097.1:46-376 thymidine kinase [Human alphaherpesvirus 1]\\n',\n",
       " 'MPTLLRVYIDGPHGMGKTTTTQLLVALGSRDDIVYVPEPMTYWRVLGASETIANIYTTQHRLDQGEISAGDAAVVMTSAQ\\n',\n",
       " 'ITMGMPYAVTDAVLAPHIGGEAGSSHAPPPALTLIFDRHPIAALLCYPAARYLMGSMTPQAVLAFVALIPPTLPGTNIVL\\n',\n",
       " 'GALPEDRHIDRLAKRQRPGERLDLAMLAAIRRVYGLLANTVRYLQGGGSWREDWGQLSGAAVPPQGAEPQSNAGPRPHIG\\n',\n",
       " 'DTLFTLFRAPELLAPNGDLYNVFAWALDVLAKRLRPMHVFILDYDQSPAGCRDALLQLTSGMVQTHVTTPGSIPTICDLA\\n',\n",
       " 'RTFAREMGEAN\\n',\n",
       " '>YP_009011009.1:46-374 thymidine kinase [Chimpanzee herpesvirus strain 105640]\\n',\n",
       " 'LPTLLRVYIDGPHGVGKTTTSAQMMEALGPRDDIVYVPEPMTYWQVLGASETLTNIYNTQHRLDRGEISAGEAAVVMTSA\\n',\n",
       " 'QITMSTPYAATDAVLAPHIGGEAVGPQAPPPALTLVFDRHPIASLLCYPTARYLMGSMTPQAVLAFVALIPPTAPGTNLV\\n',\n",
       " 'LGVLPEAKHADRLAKRQRPGERLDLVMLAAIRRVYDMLANTVRYLQRGGRWREDWGRLTGVAAATTRPEPKDSAGSLPSI\\n',\n",
       " 'EDTLFALFRVPELLAPSGDLYHIFAWALDILVDRLRPMHLFVLDYDQSPVGCRDALLRLTAGMVPTHVTTAGSIAEIRDL\\n',\n",
       " 'ARTFAREMG\\n',\n",
       " '>YP_009137174.1:46-374 thymidine kinase [Human alphaherpesvirus 2]\\n',\n",
       " 'LPTLLRVYIDGPHGVGKTTTSAQLMEALGPRDNIVYVPEPMTYWQVLGASETLTNIYNTQHRLDRGEISAGEAAVVMTSA\\n',\n",
       " 'QITMSTPYAATDAVLAPHIGGEAVGPQAPPPALTLVFDRHPIASLLCYPAARYLMGSMTPQAVLAFVALMPPTAPGTNLV\\n',\n",
       " 'LGVLPEAEHADRLARRQRPGERLDLAMLSAIRRVYDLLANTVRYLQRGGRWREDWGRLTGVAAATPRPDPEDGAGSLPRI\\n',\n",
       " 'EDTLFALFRVPELLAPNGDLYHIFAWVLDVLADRLLPMHLFVLDYDQSPVGCRDALLRLTAGMIPTRVTTAGSIAEIRDL\\n',\n",
       " 'ARTFAREVG\\n',\n",
       " '>YP_164465.1:40-362 thymidine kinase [Cercopithecine alphaherpesvirus 2]\\n',\n",
       " 'MLRIYVDGPHGLGKTTTAAAFAAALGKSDGVEYVPEPMAYWQKLGGAETIARIFDAQHRLDRGEISVAEAAMAMTSAQVT\\n',\n",
       " 'MSTPYAVTEAAVAPHIGPELPPDHRPHPTIDLILVFDRHPVAPLLCYPAARYLVGSLSLPAVLSFAALLPPTTPGTNLVL\\n',\n",
       " 'GDLPAVAHAERLAQRHRPGERLDLAMLSAIRRVYAMLGNTILYLQTGGSWRADWHRLAPAVESRRPERIMPHPKIEDTLF\\n',\n",
       " 'ALFCAPELLDETGELYRVFAWTLDLLAERLRSMHLFVLDYNQATRHCWMDLMEATPEMTPTLVTTPGSLTVLRTLAREFA\\n',\n",
       " 'REM\\n',\n",
       " '>NP_851882.1:29-358 thymidine kinase [Macacine alphaherpesvirus 1]\\n',\n",
       " 'LLRIYVDGPHGLGKTTTAAALAAALGRRDEIEYVPEPMAYWQTLGGPQTITRIFDAQHRLDRGEISAGEAAVAMASAQVT\\n',\n",
       " 'MSTPYAVTESAVAPHIGAELPPGHGPHPNIDLTLVFDRHPVAPLLCYPAARYLMGSLSLPTVLSFAALLPQTTPGTNLVL\\n',\n",
       " 'GALPEAVHAERLAQRQRPGERLDLAMLSAIRRVYDMLGNAIVYLQQGGSWRADWRRLSPARPAAASGRPARILPRPEIED\\n',\n",
       " 'TIFALFCAPELLDGTGEPYRVFAWTLDLLAERLRPMHLLVLDYNQAPHHCWMDLMEMIPEMTPTLPATPGSMLTLQLLAR\\n',\n",
       " 'EFAREMTSAR\\n',\n",
       " '>YP_443869.1:29-355 thymidine kinase [Papiine alphaherpesvirus 2]\\n',\n",
       " 'LLRIYVDGPHGLGKTTTAAAFAAALRRVDQIEYVPEPMAYWQTLGGRETIARIFDAQHRLDRGEISAAEAAMAMASAQVT\\n',\n",
       " 'MSTPYAVTESAVAPHIGPELPPGHKPHPSIDLILVFDRHPVAPLVCYPAARYLTGSLSLPTVLSFAALLPPTTPGTNLVL\\n',\n",
       " 'GALPEAAHVERLAQRQRPGERLDLAMLSAIRRVYAMLGNAILYLQTGGSWRADWRRLSPARPAAESRRPERILPHPEIED\\n',\n",
       " 'TIFALFCAPELLDETGEPFRVFAWTLDLLAERLRSMHLFVLDYNQATRHCWMDLMETTPEMTPTLVTNPGSLTALRTLAR\\n',\n",
       " 'EFAREMA\\n',\n",
       " '>YP_009042085.1:2-329 thymidine kinase [Fruit bat alphaherpesvirus 1]\\n',\n",
       " 'LLRVYIDGPHGLGKTTLAKRLAETLNQSCETLFVPEPLKYWQSFGNQDAIARVYDTQCRFDQGELPASDAAMVMTSAQVT\\n',\n",
       " 'MSTPYAALHNLIAPHIGYEIIDCQAPPTKLALVFDRHPISSLLCYPLARYLVGSFSLHTVVSMLALLPPALPGTNLVLGN\\n',\n",
       " 'LPRDINAERLMERQRPGEILDLAMLKAIHDVFDRLVNTIRYVRLGHSWLEEWSLLQPLTRTAALVSEVKKQAHPHIQDTL\\n',\n",
       " 'FALFCAPEMLDCRGQPQLILRWALDILANRALHFELTIVDYYQTPRACMEELLDSSTDFLSTTTTTHASLQTLKDVVQKY\\n',\n",
       " 'TQELGQSE\\n',\n",
       " '>YP_009230154.1:1-272 thymidine kinase [Leporid alphaherpesvirus 4]\\n',\n",
       " 'MGKTTVARALAGALGEAYEVFYLPEPMRYWRGAGENDLVSRVYDTQRRVDRGEINAREAADIIVGTQLLMSTPYVTLDRV\\n',\n",
       " 'IAPHLGDEIGHNDATPPGLVLIFDRHPIAALLCYPVARYLVGCLSIDAVIALIALMPPIAPGTNLVMGAVPEETHLARLA\\n',\n",
       " 'GRGRRGESTDVRMLLAIRRTYDLLLNTVRYLRCGGRWREDARKGAERATLFDLIRRAEPARACAEPRGWALDLLADRLRR\\n',\n",
       " 'LHVFVINYGAPPESCVDQIARLVPAMVQTTTP\\n',\n",
       " '>YP_003933817.1:10-346 thymidine kinase [Saimiriine alphaherpesvirus 1]\\n',\n",
       " 'ILRVYLDGPHGVGKSTTAEALVARCEAEAADTVYLQEPMAYWRSTFASDAITEIYDTQHRLDSNEITAAEAGAFMTSLQL\\n',\n",
       " 'HMGTPYALLEEAMRPHVGRELAEPDDNGPLPQRRDFVLVVDRHAVASMVCYPLARFMMGCVSLRSVASLISHLPPPLPGT\\n',\n",
       " 'NLVVASLDFREHAARLRARARPGERLDLTMMAAIRNAYAMLANTSRYLLSGGDWRRDWGSLPVFKPSAFVARAAKTAYTL\\n',\n",
       " 'PLRDEPGLADTLFAALKVPEFLDARGYPRAAHAWTLDILANRIRALRVYTLDLTGPPEACAAAFRRLCAGLVLTEGSHPG\\n',\n",
       " 'ALCELKRAAAAYAREMS\\n',\n",
       " '>YP_009227256.1:27-353 thymidine kinase [Macropodid alphaherpesvirus 1]\\n',\n",
       " 'MAAVLRIYLDGPHGIGKTTLGSSLAKTLSPHTSTVFVPEPMAYWRAVGGVDAIANVYETQRRRDNNEISVDEASLIMTNT\\n',\n",
       " 'QLLMNTPYMALDQQMEPLLGWGASPLPPPRPTQTIIVDRHPIASLVCYPLARYLMGSFNIQTAMTFLSFIPKIPPGTNLV\\n',\n",
       " 'LGKLPGGETAQRLYERSRPGEVMDWHMIGCIHNIYDRLQNTISYIQQGHNWRDEWHTLVPMTAMDIRFEPVSGCETPCIR\\n',\n",
       " 'DTLFAVFCTPALAQPTGRLSNVHAAVFDILSDRLGRFNMFVLDYNRPVEDCLNDLLKQSQGMTYTITSKEDLKKLNDVIT\\n',\n",
       " 'TYIQTEG\\n',\n",
       " '>WP_174841129.1:1-125 hypothetical protein, partial [Staphylococcus aureus]\\n',\n",
       " 'MGKTTTTQLLVALGSRDDIVYVPEPMTYWRVLGASETIANIYTTQHRLDQGEISAGDAAVVMTSAQITMGMPYAVTDAVL\\n',\n",
       " 'APHIGGEAGSSHAPPPALTLIFDRHPIAAPLCYPAARYLMGSMTP\\n',\n",
       " '>YP_009054942.1:21-328 thymidine kinase [Equid alphaherpesvirus 3]\\n',\n",
       " 'TLVRVYLDGVYGVGKSTTGRVMASSAGRGSPTLYFPEPMAYWRTLFETDVIGGIYETQNRKRAGGLTGDDASLITAHYQS\\n',\n",
       " 'RFATPYLLLHDHTSGLFGSEEMPRGAAAPDLVLVFDRHPVAATVCFPAARYLLGDMPMSALLAMAATLPPEAPGANLVVT\\n',\n",
       " 'TLDVDEHVRRLRARARIGEQVDMQLIATLRNVYAMLVNTSRFLQSGRVWRDGWGQLPPFTAARRRHAAQLDAYREREYPE\\n',\n",
       " 'LSDTLFGMFKSPELMDERGVLLEVHSWALDALMGRLRHLRVFSADLGGTPRQCAAAVDGLMPLMSSTV\\n',\n",
       " '>YP_053084.1:24-351 thymidine kinase [Equid alphaherpesvirus 1]\\n',\n",
       " 'TIVRIYLDGVYGIGKSTTGRVMASAASGGSPTLYFPEPMAYWRTLFEADVISGIYDTQNRKQQGDLAADDAASITAHYQS\\n',\n",
       " 'RFTTPYLILHDHTFGLFGGDSLQRGTRPDLTVVFDRHPVASAVCFPAARYLIGDMSMCALIAMVATLPREPQGGNIVVTT\\n',\n",
       " 'LNVDEHVRRLRTRARIGEQIDMKLIATLRNVYSMLANTSNFLRSGRVWRDGWGELPLSCETYKHRATQMDAFQERESPEL\\n',\n",
       " 'SDTLFAMFKTPELLDDRGVILEVHAWALDALMLKLRNLSVFCADLSGTPRQCAATVESLIPLMSSTLSDSESASSLERAA\\n',\n",
       " 'RTFNAEMG\\n',\n",
       " '>YP_002333520.1:24-351 thymidine kinase [Equid alphaherpesvirus 9]\\n',\n",
       " 'TIVRIYLDGVYGIGKSTTGRVMASAASGGSPTLYFPEPMAYWRTLFEADVISGIYDTQNRKQHGDLAADDAASITAHYQS\\n',\n",
       " 'RFTTPYLILHDHTFGLFGVDSLQRGTRPDLTVVFDRHPVASAVCFPAARYLIGDMSMCALIAMVATLPREPQGGNIVITT\\n',\n",
       " 'LNVDEHVRRLRTRARIGEQIDMKLIATLRNVYSMLANTSNFLRSGRVWRDGWGELPLSCETYKHRATQMDAFQERESPEL\\n',\n",
       " 'GDTLFAMFKTPELLDDRGVILEVHAWALDALMLKLRNLSVFCADLSGTPRQCAATVESLIPLMSSTLSDSESASSLERAA\\n',\n",
       " 'RTFNAEMG\\n',\n",
       " '>NP_045256.1:24-351 thymidine kinase [Equid alphaherpesvirus 4]\\n',\n",
       " 'TIVRIYLDGVYGIGKSTTGRVMASAASGGSPTLYFPEPMAYWRTLFETDVISGIYDTQNRKQQGNLAVDDAALITAHYQS\\n',\n",
       " 'RFTTPYLILHDHTCTLFGGNSLQRGTQPDLTLVFDRHPVASTVCFPAARYLLGDMSMCALMAMVATLPREPQGGNIVVTT\\n',\n",
       " 'LNVEEHIRRLRTRARIGEQIDITLIATLRNVYFMLVNTCHFLRSGRVWRDGWGELPTSCGAYKHRATQMDAFQERVSPEL\\n',\n",
       " 'GDTLFALFKTQELLDDRGVILEVHAWALDALMLKLRNLNVFSADLSGTPRQCAAVVESLLPLMSSTLSDFDSASALERAA\\n',\n",
       " 'RTFNAEMG\\n',\n",
       " '>YP_009361915.1:8-328 thymidine kinase [Ateline alphaherpesvirus 1]\\n',\n",
       " 'PRILRVYLDGPHGAGKSTTARALVALAEAASRRVAFVEEPMGYWRSAFSSDAIFEIYDTQHRLDRKEISPAEAGAFMTSL\\n',\n",
       " 'QMHMATPYALAEEAFRPHVGREAADGAGPQRRDPDATLVVDRHAVASLVCYPMARFLLGCLSLRSVASLVSLLPPPLPGT\\n',\n",
       " 'NLVLATLDRGAHAARLAARARPGERPDVAMLMAIRDVYAMLANTARYLRRGGDWRRDWPALPVFGRDEFAARAAGEGRAI\\n',\n",
       " 'PVREDPGLGDTLFAALKVAELLDPRGRPRGPHARTLDVLAERIGAMHVSVLDLGGTPEECVAALRDALRTLVCTEGASPD\\n',\n",
       " 'S\\n',\n",
       " '>YP_009252263.1:5-325 thymidine kinase [Canid alphaherpesvirus 1]\\n',\n",
       " 'ICRFYIDGCYGTGKSTAALNFIKLEKNNPVYYFPEPMAFWRIILETDIVQGIYSVQDRKLRGELSLNDASLITAQLQTKF\\n',\n",
       " 'STPYILLHSNVSKFFGENVTFGIPEVIFIFDRHPIASIVCFPLARYLIGDMTLESVISIITTLPKETPGGNLVITDLSED\\n',\n",
       " 'ELLQRLKKRSRKGEKIDLNLLHALQNVYTMLINTKRFLELNDWYKEWDKLPVFNDCDKNYFLSQFCLEKDKPSINDTLFR\\n',\n",
       " 'VFKTSSLVKKNRSPFIIYKWALEKLVDSLENLKIFKVSFQGSPDVCVSNIREIIPHMTITSTSKRFLQNLIKTSKSFSKE\\n',\n",
       " 'M\\n',\n",
       " '>YP_003331558.1:21-334 thymidine kinase [Felid alphaherpesvirus 1]\\n',\n",
       " 'VRIYIDGAYGIGKSLTAKYLVRADENRPGYTYYFPEPMLYWRSLFETDVVGGIYAVQDRKRRGELSAEDAAYITAHYQAR\\n',\n",
       " 'FAAPYLLLHSRLSTITGYQKVVCEEHPDVTLIIDRHPLASLVCFPLARYFVGDMTLGSVLSLMATLPREPPGGNLVVTTL\\n',\n",
       " 'NIEEHLKRLRGRSRTGEQIDMKLIHALRNVYMMLVHTKKFLTKNTSWRDGWGKLKIFSHYERNRLVETTIVSDSTESDLC\\n',\n",
       " 'DTLFSVFKARELSDQNGDLLDMHAWVLDGLMETLQNLQIFTLNLEGTPDECAAALGALRQDMDMTFIAACDMHR\\n',\n",
       " '>YP_009342382.1:21-347 thymidine kinase [Spheniscid alphaherpesvirus 1]\\n',\n",
       " 'VLRIYLDGAYGIGKSTCASVMTESVLYPTLYAREPMAYWRRFFFPSDIVSDVYSTQERRRTGKISEEDADAVTTSLQVRF\\n',\n",
       " 'ASPYLTLHAATRALFGQETYTQQRPDITLIFDRHPIAAILCFPAARYVVGDMSIEAFLALISTLPEDSSGANIVVADITE\\n',\n",
       " 'EEHVRRLQGRNRRGEKIDMNLLRALRNIYIMLINTISYARLRSQVSWRDDWDSIPTFDDTVRDRITSQRSYFISEPPQLR\\n',\n",
       " 'FSLLTLLKTPVICDGDGFVRRIHELAIDNLMNKLALLHVYYADFDNKTPKHCAESIRCMTSAMSVTTTSYTNVRVLEDLI\\n',\n",
       " 'RDFNNEM\\n',\n",
       " '>YP_010084968.1:9-334 thymidine kinase [Beluga whale alphaherpesvirus 1]\\n',\n",
       " 'LRRVYLDGSYGVGKTTACRLLAADQWEERVVYFPEPMSYWRTMFGTDALRGIWSLATRRRRREITEADAGHLTAYYQSRF\\n',\n",
       " 'AAPYLILHAKTAGEWGSLAARGPAERVTTVLFDRHPVAACVCFPFARYVLKEIDVAELLGLMSTLPAEPPGTNLIVCSLT\\n',\n",
       " 'LEEQSARVSARARDGERQHAPLATTLHNVYTLLVNTIRFVANGDAWREGWPQLNWSDDTARAILACPNTNQVKLRPDLAD\\n',\n",
       " 'TLFAPLKTAPLCDRDGALFSVHAWALDALAEKLRGINVLTMDMAGTPKACVAAVREMYPIMLTTATTDASLAALKDAARD\\n',\n",
       " 'FASEMA\\n',\n",
       " '>YP_068352.1:3-319 thymidine kinase [Suid alphaherpesvirus 1]\\n',\n",
       " 'ILRIYLDGAYGTGKSTTARVMALGGALYVPEPMAYWRTLFDTDTVAGIYDAQTRKQNGSLSEEDAALVTAQHQAAFATPY\\n',\n",
       " 'LLLHTRLVPLFGPAVEGPPEMTVVFDRHPVAATVCFPLARFIVGDISAAAFVGLAATLPGEPPGGNLVVASLDPDEHLRR\\n',\n",
       " 'LRARARAGEHVDARLLTALRNVYAMLVNTSRYLSSGRRWRDDWGRAPRFDQTTRDCLALNELCRPRDDPELQDTLFGAYK\\n',\n",
       " 'APELCDRRGRPLEVHAWAMDALVAKLLPLRVSTVDLGPSPRVCAAAVAAQTRGMEVTESAYGDHIRQCVCAFTSEMG\\n',\n",
       " '>NP_077451.1:15-312 thymidine kinase [Cercopithecine alphaherpesvirus 9]\\n',\n",
       " 'RVYLEGAFGIGKTTTALAFVNGSRVNPVFFIGEPMMYWRNMAGDDAINGIYGTQVRRKNGEISDNDAQRLTAYFQGLFCS\\n',\n",
       " 'PHSMLHARILHLTVQNPNNLALKFFNNPVAIFDRHPVASNVCFPISRYVVGDMTPATLPGFLFAVSEEPEGTNLIVCTVS\\n',\n",
       " 'LTNHLTRITNRSRSGEIIDVQFILVLRNVYIMLINTIRYLQAKSDWLIDWFKLPFCSNSFKQQLQEKECITIQENPVIEN\\n',\n",
       " 'TLFAVFKIPELCDSYGELLDLWKWGMGVLANRLKNISCYVLSLDTTPTDAVIELCKQL\\n',\n",
       " '>YP_010374225.1:10-353 thymidine kinase [Bovine herpesvirus type 1.1]\\n',\n",
       " 'VVRIYLDGAHGLGKTTTGRALAAASTAGEGVLFFPEPMAYWRTMFGTDALSGILAASARCAAASHGSARGAGGPAHRADA\\n',\n",
       " 'DAAGLVAYYQARFAAPYLILHARVSALLAPPGPAPGGTVTLVFDRHPVAACLCYPFARYCLREINAEDLLMLAAAMPPEA\\n',\n",
       " 'PGANLVVCTLPPAEQQRRLAARARPGDRADAGFLVAVRNAYALLVNTCAFLRAGGAWRDGWDALEWADANALAALADPSC\\n',\n",
       " 'DECKMAPAPALRDTLFAALKCRELYPGGGTGLPAVHAWALDALAGRLAALEVFVLDVSAAPDACAAAVLDMRPAMQAACA\\n',\n",
       " 'DGAAGATLATLARQFALEMAGEAT\\n',\n",
       " '>YP_009046521.1:23-337 thymidine kinase [Falconid herpesvirus 1]\\n',\n",
       " 'VVRFYMDGAFGVGKTSTLFKLREAASGMQVLHVCEPMRYWRCLFVDVVEEVYDTAAKRRSGEMNDRHATAIITTAQLQFA\\n',\n",
       " 'NPYVVLHDRCTGLFGPLSGTRGEPDLLVIFDRHPSAACLCFPAARYILQDISVEVLITLAANLPRESPGGNILVACLDDE\\n',\n",
       " 'EEHLRRLTARARPGEKLDENMLRALRVVYCMLINTIDFANTQTRRRKSESDWERDWDKLPWFDEGRRAELLEIGSSMERP\\n',\n",
       " 'EVPCLEKTLLVLFKVPQLCDATGKLLRVYAWGLGTMLSKLRGLRIEKLQMDGKTPDECAADVLCAVSNMLATRAS\\n',\n",
       " '>NP_040159.1:12-323 thymidine kinase [Human alphaherpesvirus 3]\\n',\n",
       " 'VLRIYLDGAYGIGKTTAAEEFLHHFAITPNRILLIGEPLSYWRNLAGEDAICGIYGTQTRRLNGDVSPEDAQRLTAHFQS\\n',\n",
       " 'LFCSPHAIMHAKISALMDTSTSDLVQVNKEPYKIMLSDRHPIASTICFPLSRYLVGDMSPAALPGLLFTLPAEPPGTNLV\\n',\n",
       " 'VCTVSLPSHLSRVSKRARPGETVNLPFVMVLRNVYIMLINTIIFLKTNNWHAGWNTLSFCNDVFKQKLQKSECIKLREVP\\n',\n",
       " 'GIEDTLFAVLKLPELCGEFGNILPLWAWGMETLSNCSRSMSPFVLSLEQTPQHAAQELKTLLPQMTPANMSS\\n',\n",
       " '>YP_010087580.1:24-321 thymidine kinase [Cervid alphaherpesvirus 3]\\n',\n",
       " 'VVRIYLDGAHGLGKTTTGRALAAASAAGGPVLFFPEPMAYWRTMFATDALSGILAAAAGAGAGASAAGLVAYYQARFAAP\\n',\n",
       " 'YLILHARTAALLAPPAPPAPPGPPGGEVTLVFDRHPVAACLCYPFARYCLREINVEDLLMLAAAVPPEAPGANLVVCTLP\\n',\n",
       " 'PAEQRRRLAARARPGDRADAGFLAAVRSAYALLANTCAFLRAGGAWRDGWDALEWADADALAALADPARGGREPAPAPAL\\n',\n",
       " 'RDTLFAALKCRELYPGGGAALPAVHAWALDVLADRLAALEVFALDVSAPPGACAAAVL\\n',\n",
       " '>YP_009664657.1:13-344 thymidina kinase [Bubaline alphaherpesvirus 1]\\n',\n",
       " 'VVRVYLDGAHGLGKTTTGRALAAAASAAGGPVLFFPEPMAYWRTMFPTDALSGILAASARPPGAAPRRADAAAAGLVAYY\\n',\n",
       " 'QARFAAPYLVLHARVAALLAPPEPVPGGDDVVTLVFDRHPLAACLCYPFARYCLREINAEDLLALAAAAPPEAPGANLVV\\n',\n",
       " 'CTLPPAEQRRRLAARARPGDRADAGFLAAVRNAYTLLVNTCAFLRAGGAWRDGWDALGWADADALAALADPRGGGREPAP\\n',\n",
       " 'APALRDTLFAALKCRELYPGGGADLPAVHAWALDALADRLAALEVFVLDVSAAPDACAAAVLGMRPAMRAARADGAAGAT\\n',\n",
       " 'LADLARRFAREM\\n',\n",
       " '>NP_073316.1:8-331 thymidine kinase [Meleagrid alphaherpesvirus 1]\\n',\n",
       " 'PTLTRVYLDGPFGIGKTSILNAMPDHTPDGAPILKVYEPMKYWRCQSTDLVVAANETPERRRGGALSRFQSDMIMASIQA\\n',\n",
       " 'RFADPYLLFHERLSSKCRGKIEICDTPAIILMLDRHPVAAILCFPITRYLLGEYSLEMLISSIIRLPLESPGCNLTVTIL\\n',\n",
       " 'PDEKEHVNRICSRDRPGETADRNMLRTLNAVYASLVDTVKYANLTCPYEKESWEMEWLGLPWFEESLLEEFISRPRPVIC\\n',\n",
       " 'SRTRMPLDRTLLAIFKRKELCSENGELLTQYSWILWGLLTKLHTINVELFDISGMSRRECASAIMHTMPERLSTLASWND\\n',\n",
       " 'LCEL\\n']"
      ]
     },
     "execution_count": 29,
     "metadata": {},
     "output_type": "execute_result"
    }
   ],
   "source": [
    "lines"
   ]
  },
  {
   "cell_type": "code",
   "execution_count": 22,
   "id": "7c03d2ff-d4e4-40f1-a504-7514b54451d6",
   "metadata": {},
   "outputs": [
    {
     "ename": "TypeError",
     "evalue": "object of type '_io.TextIOWrapper' has no len()",
     "output_type": "error",
     "traceback": [
      "\u001b[0;31m---------------------------------------------------------------------------\u001b[0m",
      "\u001b[0;31mTypeError\u001b[0m                                 Traceback (most recent call last)",
      "\u001b[0;32m<ipython-input-22-a8cfdec985e4>\u001b[0m in \u001b[0;36m<module>\u001b[0;34m\u001b[0m\n\u001b[0;32m----> 1\u001b[0;31m \u001b[0mlen\u001b[0m\u001b[0;34m(\u001b[0m\u001b[0mblast\u001b[0m\u001b[0;34m)\u001b[0m\u001b[0;34m\u001b[0m\u001b[0;34m\u001b[0m\u001b[0m\n\u001b[0m",
      "\u001b[0;31mTypeError\u001b[0m: object of type '_io.TextIOWrapper' has no len()"
     ]
    }
   ],
   "source": []
  },
  {
   "cell_type": "code",
   "execution_count": null,
   "id": "a78ebeb2-f6c2-4436-88c6-e20511b8df0c",
   "metadata": {},
   "outputs": [],
   "source": []
  },
  {
   "cell_type": "code",
   "execution_count": null,
   "id": "6145bb2c-953d-4016-b75f-9c907ffeb322",
   "metadata": {},
   "outputs": [],
   "source": []
  },
  {
   "cell_type": "code",
   "execution_count": null,
   "id": "84e7067c-ad7e-49c5-913a-09f0a1e64b88",
   "metadata": {},
   "outputs": [],
   "source": []
  },
  {
   "cell_type": "code",
   "execution_count": 15,
   "id": "c787b712-f169-4edf-bf30-9035fdeb4116",
   "metadata": {},
   "outputs": [
    {
     "ename": "ValueError",
     "evalue": "Sequences must all be the same length",
     "output_type": "error",
     "traceback": [
      "\u001b[0;31m---------------------------------------------------------------------------\u001b[0m",
      "\u001b[0;31mValueError\u001b[0m                                Traceback (most recent call last)",
      "\u001b[0;32m<ipython-input-15-fe092d658d56>\u001b[0m in \u001b[0;36m<module>\u001b[0;34m\u001b[0m\n\u001b[0;32m----> 1\u001b[0;31m \u001b[0mmsa\u001b[0m\u001b[0;34m=\u001b[0m \u001b[0mBio\u001b[0m\u001b[0;34m.\u001b[0m\u001b[0mAlignIO\u001b[0m\u001b[0;34m.\u001b[0m\u001b[0mread\u001b[0m\u001b[0;34m(\u001b[0m\u001b[0;34m'../BLAST/1E2K_blastp_31seq_align.fasta'\u001b[0m\u001b[0;34m,\u001b[0m \u001b[0;34m'fasta'\u001b[0m\u001b[0;34m)\u001b[0m\u001b[0;34m\u001b[0m\u001b[0;34m\u001b[0m\u001b[0m\n\u001b[0m\u001b[1;32m      2\u001b[0m viewer = RichAlignment(\n\u001b[1;32m      3\u001b[0m     \u001b[0mnames\u001b[0m\u001b[0;34m=\u001b[0m\u001b[0;34m[\u001b[0m\u001b[0mrecord\u001b[0m\u001b[0;34m.\u001b[0m\u001b[0mid\u001b[0m \u001b[0;32mfor\u001b[0m \u001b[0mrecord\u001b[0m \u001b[0;32min\u001b[0m \u001b[0mmsa\u001b[0m\u001b[0;34m]\u001b[0m\u001b[0;34m,\u001b[0m\u001b[0;34m\u001b[0m\u001b[0;34m\u001b[0m\u001b[0m\n\u001b[1;32m      4\u001b[0m     \u001b[0msequences\u001b[0m\u001b[0;34m=\u001b[0m\u001b[0;34m[\u001b[0m\u001b[0mstr\u001b[0m\u001b[0;34m(\u001b[0m\u001b[0mrecord\u001b[0m\u001b[0;34m.\u001b[0m\u001b[0mseq\u001b[0m\u001b[0;34m)\u001b[0m \u001b[0;32mfor\u001b[0m \u001b[0mrecord\u001b[0m \u001b[0;32min\u001b[0m \u001b[0mmsa\u001b[0m\u001b[0;34m]\u001b[0m\u001b[0;34m,\u001b[0m\u001b[0;34m\u001b[0m\u001b[0;34m\u001b[0m\u001b[0m\n\u001b[1;32m      5\u001b[0m )\n",
      "\u001b[0;32m~/miniconda3/envs/AT21/lib/python3.8/site-packages/Bio/AlignIO/__init__.py\u001b[0m in \u001b[0;36mread\u001b[0;34m(handle, format, seq_count)\u001b[0m\n\u001b[1;32m    384\u001b[0m     \u001b[0miterator\u001b[0m \u001b[0;34m=\u001b[0m \u001b[0mparse\u001b[0m\u001b[0;34m(\u001b[0m\u001b[0mhandle\u001b[0m\u001b[0;34m,\u001b[0m \u001b[0mformat\u001b[0m\u001b[0;34m,\u001b[0m \u001b[0mseq_count\u001b[0m\u001b[0;34m)\u001b[0m\u001b[0;34m\u001b[0m\u001b[0;34m\u001b[0m\u001b[0m\n\u001b[1;32m    385\u001b[0m     \u001b[0;32mtry\u001b[0m\u001b[0;34m:\u001b[0m\u001b[0;34m\u001b[0m\u001b[0;34m\u001b[0m\u001b[0m\n\u001b[0;32m--> 386\u001b[0;31m         \u001b[0malignment\u001b[0m \u001b[0;34m=\u001b[0m \u001b[0mnext\u001b[0m\u001b[0;34m(\u001b[0m\u001b[0miterator\u001b[0m\u001b[0;34m)\u001b[0m\u001b[0;34m\u001b[0m\u001b[0;34m\u001b[0m\u001b[0m\n\u001b[0m\u001b[1;32m    387\u001b[0m     \u001b[0;32mexcept\u001b[0m \u001b[0mStopIteration\u001b[0m\u001b[0;34m:\u001b[0m\u001b[0;34m\u001b[0m\u001b[0;34m\u001b[0m\u001b[0m\n\u001b[1;32m    388\u001b[0m         \u001b[0;32mraise\u001b[0m \u001b[0mValueError\u001b[0m\u001b[0;34m(\u001b[0m\u001b[0;34m\"No records found in handle\"\u001b[0m\u001b[0;34m)\u001b[0m \u001b[0;32mfrom\u001b[0m \u001b[0;32mNone\u001b[0m\u001b[0;34m\u001b[0m\u001b[0;34m\u001b[0m\u001b[0m\n",
      "\u001b[0;32m~/miniconda3/envs/AT21/lib/python3.8/site-packages/Bio/AlignIO/__init__.py\u001b[0m in \u001b[0;36mparse\u001b[0;34m(handle, format, seq_count)\u001b[0m\n\u001b[1;32m    335\u001b[0m             \u001b[0;32mraise\u001b[0m \u001b[0mValueError\u001b[0m\u001b[0;34m(\u001b[0m\u001b[0;34m\"Unknown format '%s'\"\u001b[0m \u001b[0;34m%\u001b[0m \u001b[0mformat\u001b[0m\u001b[0;34m)\u001b[0m\u001b[0;34m\u001b[0m\u001b[0;34m\u001b[0m\u001b[0m\n\u001b[1;32m    336\u001b[0m \u001b[0;34m\u001b[0m\u001b[0m\n\u001b[0;32m--> 337\u001b[0;31m         \u001b[0;32myield\u001b[0m \u001b[0;32mfrom\u001b[0m \u001b[0mi\u001b[0m\u001b[0;34m\u001b[0m\u001b[0;34m\u001b[0m\u001b[0m\n\u001b[0m\u001b[1;32m    338\u001b[0m \u001b[0;34m\u001b[0m\u001b[0m\n\u001b[1;32m    339\u001b[0m \u001b[0;34m\u001b[0m\u001b[0m\n",
      "\u001b[0;32m~/miniconda3/envs/AT21/lib/python3.8/site-packages/Bio/AlignIO/__init__.py\u001b[0m in \u001b[0;36m_SeqIO_to_alignment_iterator\u001b[0;34m(handle, format, seq_count)\u001b[0m\n\u001b[1;32m    277\u001b[0m         \u001b[0mrecords\u001b[0m \u001b[0;34m=\u001b[0m \u001b[0mlist\u001b[0m\u001b[0;34m(\u001b[0m\u001b[0mSeqIO\u001b[0m\u001b[0;34m.\u001b[0m\u001b[0mparse\u001b[0m\u001b[0;34m(\u001b[0m\u001b[0mhandle\u001b[0m\u001b[0;34m,\u001b[0m \u001b[0mformat\u001b[0m\u001b[0;34m)\u001b[0m\u001b[0;34m)\u001b[0m\u001b[0;34m\u001b[0m\u001b[0;34m\u001b[0m\u001b[0m\n\u001b[1;32m    278\u001b[0m         \u001b[0;32mif\u001b[0m \u001b[0mrecords\u001b[0m\u001b[0;34m:\u001b[0m\u001b[0;34m\u001b[0m\u001b[0;34m\u001b[0m\u001b[0m\n\u001b[0;32m--> 279\u001b[0;31m             \u001b[0;32myield\u001b[0m \u001b[0mMultipleSeqAlignment\u001b[0m\u001b[0;34m(\u001b[0m\u001b[0mrecords\u001b[0m\u001b[0;34m)\u001b[0m\u001b[0;34m\u001b[0m\u001b[0;34m\u001b[0m\u001b[0m\n\u001b[0m\u001b[1;32m    280\u001b[0m \u001b[0;34m\u001b[0m\u001b[0m\n\u001b[1;32m    281\u001b[0m \u001b[0;34m\u001b[0m\u001b[0m\n",
      "\u001b[0;32m~/miniconda3/envs/AT21/lib/python3.8/site-packages/Bio/Align/__init__.py\u001b[0m in \u001b[0;36m__init__\u001b[0;34m(self, records, alphabet, annotations, column_annotations)\u001b[0m\n\u001b[1;32m    158\u001b[0m         \u001b[0mself\u001b[0m\u001b[0;34m.\u001b[0m\u001b[0m_records\u001b[0m \u001b[0;34m=\u001b[0m \u001b[0;34m[\u001b[0m\u001b[0;34m]\u001b[0m\u001b[0;34m\u001b[0m\u001b[0;34m\u001b[0m\u001b[0m\n\u001b[1;32m    159\u001b[0m         \u001b[0;32mif\u001b[0m \u001b[0mrecords\u001b[0m\u001b[0;34m:\u001b[0m\u001b[0;34m\u001b[0m\u001b[0;34m\u001b[0m\u001b[0m\n\u001b[0;32m--> 160\u001b[0;31m             \u001b[0mself\u001b[0m\u001b[0;34m.\u001b[0m\u001b[0mextend\u001b[0m\u001b[0;34m(\u001b[0m\u001b[0mrecords\u001b[0m\u001b[0;34m)\u001b[0m\u001b[0;34m\u001b[0m\u001b[0;34m\u001b[0m\u001b[0m\n\u001b[0m\u001b[1;32m    161\u001b[0m \u001b[0;34m\u001b[0m\u001b[0m\n\u001b[1;32m    162\u001b[0m         \u001b[0;31m# Annotations about the whole alignment\u001b[0m\u001b[0;34m\u001b[0m\u001b[0;34m\u001b[0m\u001b[0;34m\u001b[0m\u001b[0m\n",
      "\u001b[0;32m~/miniconda3/envs/AT21/lib/python3.8/site-packages/Bio/Align/__init__.py\u001b[0m in \u001b[0;36mextend\u001b[0;34m(self, records)\u001b[0m\n\u001b[1;32m    460\u001b[0m \u001b[0;34m\u001b[0m\u001b[0m\n\u001b[1;32m    461\u001b[0m         \u001b[0;32mfor\u001b[0m \u001b[0mrec\u001b[0m \u001b[0;32min\u001b[0m \u001b[0mrecords\u001b[0m\u001b[0;34m:\u001b[0m\u001b[0;34m\u001b[0m\u001b[0;34m\u001b[0m\u001b[0m\n\u001b[0;32m--> 462\u001b[0;31m             \u001b[0mself\u001b[0m\u001b[0;34m.\u001b[0m\u001b[0m_append\u001b[0m\u001b[0;34m(\u001b[0m\u001b[0mrec\u001b[0m\u001b[0;34m,\u001b[0m \u001b[0mexpected_length\u001b[0m\u001b[0;34m)\u001b[0m\u001b[0;34m\u001b[0m\u001b[0;34m\u001b[0m\u001b[0m\n\u001b[0m\u001b[1;32m    463\u001b[0m \u001b[0;34m\u001b[0m\u001b[0m\n\u001b[1;32m    464\u001b[0m     \u001b[0;32mdef\u001b[0m \u001b[0mappend\u001b[0m\u001b[0;34m(\u001b[0m\u001b[0mself\u001b[0m\u001b[0;34m,\u001b[0m \u001b[0mrecord\u001b[0m\u001b[0;34m)\u001b[0m\u001b[0;34m:\u001b[0m\u001b[0;34m\u001b[0m\u001b[0;34m\u001b[0m\u001b[0m\n",
      "\u001b[0;32m~/miniconda3/envs/AT21/lib/python3.8/site-packages/Bio/Align/__init__.py\u001b[0m in \u001b[0;36m_append\u001b[0;34m(self, record, expected_length)\u001b[0m\n\u001b[1;32m    522\u001b[0m             \u001b[0;31m# raise ValueError(\"New sequence is not of length %i\"\u001b[0m\u001b[0;34m\u001b[0m\u001b[0;34m\u001b[0m\u001b[0;34m\u001b[0m\u001b[0m\n\u001b[1;32m    523\u001b[0m             \u001b[0;31m#                  % self.get_alignment_length())\u001b[0m\u001b[0;34m\u001b[0m\u001b[0;34m\u001b[0m\u001b[0;34m\u001b[0m\u001b[0m\n\u001b[0;32m--> 524\u001b[0;31m             \u001b[0;32mraise\u001b[0m \u001b[0mValueError\u001b[0m\u001b[0;34m(\u001b[0m\u001b[0;34m\"Sequences must all be the same length\"\u001b[0m\u001b[0;34m)\u001b[0m\u001b[0;34m\u001b[0m\u001b[0;34m\u001b[0m\u001b[0m\n\u001b[0m\u001b[1;32m    525\u001b[0m \u001b[0;34m\u001b[0m\u001b[0m\n\u001b[1;32m    526\u001b[0m         \u001b[0mself\u001b[0m\u001b[0;34m.\u001b[0m\u001b[0m_records\u001b[0m\u001b[0;34m.\u001b[0m\u001b[0mappend\u001b[0m\u001b[0;34m(\u001b[0m\u001b[0mrecord\u001b[0m\u001b[0;34m)\u001b[0m\u001b[0;34m\u001b[0m\u001b[0;34m\u001b[0m\u001b[0m\n",
      "\u001b[0;31mValueError\u001b[0m: Sequences must all be the same length"
     ]
    }
   ],
   "source": [
    "msa= Bio.AlignIO.read('../BLAST/1E2K_blastp_31seq_align.fasta', 'fasta')\n",
    "viewer = RichAlignment(\n",
    "    names=[record.id for record in msa],\n",
    "    sequences=[str(record.seq) for record in msa],\n",
    ")\n",
    "\n",
    "panel = rich.panel.Panel(viewer, title=\"1E2K_blastp_31seq_aligned\")\n",
    "rich.print(panel)"
   ]
  },
  {
   "cell_type": "code",
   "execution_count": 17,
   "id": "374b94c4-2129-4ea8-8442-df18c51059f1",
   "metadata": {},
   "outputs": [
    {
     "ename": "ValueError",
     "evalue": "Sequences must all be the same length",
     "output_type": "error",
     "traceback": [
      "\u001b[0;31m---------------------------------------------------------------------------\u001b[0m",
      "\u001b[0;31mValueError\u001b[0m                                Traceback (most recent call last)",
      "\u001b[0;32m<ipython-input-17-3eaba52de86d>\u001b[0m in \u001b[0;36m<module>\u001b[0;34m\u001b[0m\n\u001b[0;32m----> 1\u001b[0;31m \u001b[0mmsa\u001b[0m\u001b[0;34m=\u001b[0m \u001b[0mBio\u001b[0m\u001b[0;34m.\u001b[0m\u001b[0mAlignIO\u001b[0m\u001b[0;34m.\u001b[0m\u001b[0mread\u001b[0m\u001b[0;34m(\u001b[0m\u001b[0;34m'../BLAST/1E2K_blastp_31seq_align.fasta'\u001b[0m\u001b[0;34m,\u001b[0m \u001b[0;34m'fasta'\u001b[0m\u001b[0;34m)\u001b[0m\u001b[0;34m\u001b[0m\u001b[0;34m\u001b[0m\u001b[0m\n\u001b[0m",
      "\u001b[0;32m~/miniconda3/envs/AT21/lib/python3.8/site-packages/Bio/AlignIO/__init__.py\u001b[0m in \u001b[0;36mread\u001b[0;34m(handle, format, seq_count)\u001b[0m\n\u001b[1;32m    384\u001b[0m     \u001b[0miterator\u001b[0m \u001b[0;34m=\u001b[0m \u001b[0mparse\u001b[0m\u001b[0;34m(\u001b[0m\u001b[0mhandle\u001b[0m\u001b[0;34m,\u001b[0m \u001b[0mformat\u001b[0m\u001b[0;34m,\u001b[0m \u001b[0mseq_count\u001b[0m\u001b[0;34m)\u001b[0m\u001b[0;34m\u001b[0m\u001b[0;34m\u001b[0m\u001b[0m\n\u001b[1;32m    385\u001b[0m     \u001b[0;32mtry\u001b[0m\u001b[0;34m:\u001b[0m\u001b[0;34m\u001b[0m\u001b[0;34m\u001b[0m\u001b[0m\n\u001b[0;32m--> 386\u001b[0;31m         \u001b[0malignment\u001b[0m \u001b[0;34m=\u001b[0m \u001b[0mnext\u001b[0m\u001b[0;34m(\u001b[0m\u001b[0miterator\u001b[0m\u001b[0;34m)\u001b[0m\u001b[0;34m\u001b[0m\u001b[0;34m\u001b[0m\u001b[0m\n\u001b[0m\u001b[1;32m    387\u001b[0m     \u001b[0;32mexcept\u001b[0m \u001b[0mStopIteration\u001b[0m\u001b[0;34m:\u001b[0m\u001b[0;34m\u001b[0m\u001b[0;34m\u001b[0m\u001b[0m\n\u001b[1;32m    388\u001b[0m         \u001b[0;32mraise\u001b[0m \u001b[0mValueError\u001b[0m\u001b[0;34m(\u001b[0m\u001b[0;34m\"No records found in handle\"\u001b[0m\u001b[0;34m)\u001b[0m \u001b[0;32mfrom\u001b[0m \u001b[0;32mNone\u001b[0m\u001b[0;34m\u001b[0m\u001b[0;34m\u001b[0m\u001b[0m\n",
      "\u001b[0;32m~/miniconda3/envs/AT21/lib/python3.8/site-packages/Bio/AlignIO/__init__.py\u001b[0m in \u001b[0;36mparse\u001b[0;34m(handle, format, seq_count)\u001b[0m\n\u001b[1;32m    335\u001b[0m             \u001b[0;32mraise\u001b[0m \u001b[0mValueError\u001b[0m\u001b[0;34m(\u001b[0m\u001b[0;34m\"Unknown format '%s'\"\u001b[0m \u001b[0;34m%\u001b[0m \u001b[0mformat\u001b[0m\u001b[0;34m)\u001b[0m\u001b[0;34m\u001b[0m\u001b[0;34m\u001b[0m\u001b[0m\n\u001b[1;32m    336\u001b[0m \u001b[0;34m\u001b[0m\u001b[0m\n\u001b[0;32m--> 337\u001b[0;31m         \u001b[0;32myield\u001b[0m \u001b[0;32mfrom\u001b[0m \u001b[0mi\u001b[0m\u001b[0;34m\u001b[0m\u001b[0;34m\u001b[0m\u001b[0m\n\u001b[0m\u001b[1;32m    338\u001b[0m \u001b[0;34m\u001b[0m\u001b[0m\n\u001b[1;32m    339\u001b[0m \u001b[0;34m\u001b[0m\u001b[0m\n",
      "\u001b[0;32m~/miniconda3/envs/AT21/lib/python3.8/site-packages/Bio/AlignIO/__init__.py\u001b[0m in \u001b[0;36m_SeqIO_to_alignment_iterator\u001b[0;34m(handle, format, seq_count)\u001b[0m\n\u001b[1;32m    277\u001b[0m         \u001b[0mrecords\u001b[0m \u001b[0;34m=\u001b[0m \u001b[0mlist\u001b[0m\u001b[0;34m(\u001b[0m\u001b[0mSeqIO\u001b[0m\u001b[0;34m.\u001b[0m\u001b[0mparse\u001b[0m\u001b[0;34m(\u001b[0m\u001b[0mhandle\u001b[0m\u001b[0;34m,\u001b[0m \u001b[0mformat\u001b[0m\u001b[0;34m)\u001b[0m\u001b[0;34m)\u001b[0m\u001b[0;34m\u001b[0m\u001b[0;34m\u001b[0m\u001b[0m\n\u001b[1;32m    278\u001b[0m         \u001b[0;32mif\u001b[0m \u001b[0mrecords\u001b[0m\u001b[0;34m:\u001b[0m\u001b[0;34m\u001b[0m\u001b[0;34m\u001b[0m\u001b[0m\n\u001b[0;32m--> 279\u001b[0;31m             \u001b[0;32myield\u001b[0m \u001b[0mMultipleSeqAlignment\u001b[0m\u001b[0;34m(\u001b[0m\u001b[0mrecords\u001b[0m\u001b[0;34m)\u001b[0m\u001b[0;34m\u001b[0m\u001b[0;34m\u001b[0m\u001b[0m\n\u001b[0m\u001b[1;32m    280\u001b[0m \u001b[0;34m\u001b[0m\u001b[0m\n\u001b[1;32m    281\u001b[0m \u001b[0;34m\u001b[0m\u001b[0m\n",
      "\u001b[0;32m~/miniconda3/envs/AT21/lib/python3.8/site-packages/Bio/Align/__init__.py\u001b[0m in \u001b[0;36m__init__\u001b[0;34m(self, records, alphabet, annotations, column_annotations)\u001b[0m\n\u001b[1;32m    158\u001b[0m         \u001b[0mself\u001b[0m\u001b[0;34m.\u001b[0m\u001b[0m_records\u001b[0m \u001b[0;34m=\u001b[0m \u001b[0;34m[\u001b[0m\u001b[0;34m]\u001b[0m\u001b[0;34m\u001b[0m\u001b[0;34m\u001b[0m\u001b[0m\n\u001b[1;32m    159\u001b[0m         \u001b[0;32mif\u001b[0m \u001b[0mrecords\u001b[0m\u001b[0;34m:\u001b[0m\u001b[0;34m\u001b[0m\u001b[0;34m\u001b[0m\u001b[0m\n\u001b[0;32m--> 160\u001b[0;31m             \u001b[0mself\u001b[0m\u001b[0;34m.\u001b[0m\u001b[0mextend\u001b[0m\u001b[0;34m(\u001b[0m\u001b[0mrecords\u001b[0m\u001b[0;34m)\u001b[0m\u001b[0;34m\u001b[0m\u001b[0;34m\u001b[0m\u001b[0m\n\u001b[0m\u001b[1;32m    161\u001b[0m \u001b[0;34m\u001b[0m\u001b[0m\n\u001b[1;32m    162\u001b[0m         \u001b[0;31m# Annotations about the whole alignment\u001b[0m\u001b[0;34m\u001b[0m\u001b[0;34m\u001b[0m\u001b[0;34m\u001b[0m\u001b[0m\n",
      "\u001b[0;32m~/miniconda3/envs/AT21/lib/python3.8/site-packages/Bio/Align/__init__.py\u001b[0m in \u001b[0;36mextend\u001b[0;34m(self, records)\u001b[0m\n\u001b[1;32m    460\u001b[0m \u001b[0;34m\u001b[0m\u001b[0m\n\u001b[1;32m    461\u001b[0m         \u001b[0;32mfor\u001b[0m \u001b[0mrec\u001b[0m \u001b[0;32min\u001b[0m \u001b[0mrecords\u001b[0m\u001b[0;34m:\u001b[0m\u001b[0;34m\u001b[0m\u001b[0;34m\u001b[0m\u001b[0m\n\u001b[0;32m--> 462\u001b[0;31m             \u001b[0mself\u001b[0m\u001b[0;34m.\u001b[0m\u001b[0m_append\u001b[0m\u001b[0;34m(\u001b[0m\u001b[0mrec\u001b[0m\u001b[0;34m,\u001b[0m \u001b[0mexpected_length\u001b[0m\u001b[0;34m)\u001b[0m\u001b[0;34m\u001b[0m\u001b[0;34m\u001b[0m\u001b[0m\n\u001b[0m\u001b[1;32m    463\u001b[0m \u001b[0;34m\u001b[0m\u001b[0m\n\u001b[1;32m    464\u001b[0m     \u001b[0;32mdef\u001b[0m \u001b[0mappend\u001b[0m\u001b[0;34m(\u001b[0m\u001b[0mself\u001b[0m\u001b[0;34m,\u001b[0m \u001b[0mrecord\u001b[0m\u001b[0;34m)\u001b[0m\u001b[0;34m:\u001b[0m\u001b[0;34m\u001b[0m\u001b[0;34m\u001b[0m\u001b[0m\n",
      "\u001b[0;32m~/miniconda3/envs/AT21/lib/python3.8/site-packages/Bio/Align/__init__.py\u001b[0m in \u001b[0;36m_append\u001b[0;34m(self, record, expected_length)\u001b[0m\n\u001b[1;32m    522\u001b[0m             \u001b[0;31m# raise ValueError(\"New sequence is not of length %i\"\u001b[0m\u001b[0;34m\u001b[0m\u001b[0;34m\u001b[0m\u001b[0;34m\u001b[0m\u001b[0m\n\u001b[1;32m    523\u001b[0m             \u001b[0;31m#                  % self.get_alignment_length())\u001b[0m\u001b[0;34m\u001b[0m\u001b[0;34m\u001b[0m\u001b[0;34m\u001b[0m\u001b[0m\n\u001b[0;32m--> 524\u001b[0;31m             \u001b[0;32mraise\u001b[0m \u001b[0mValueError\u001b[0m\u001b[0;34m(\u001b[0m\u001b[0;34m\"Sequences must all be the same length\"\u001b[0m\u001b[0;34m)\u001b[0m\u001b[0;34m\u001b[0m\u001b[0;34m\u001b[0m\u001b[0m\n\u001b[0m\u001b[1;32m    525\u001b[0m \u001b[0;34m\u001b[0m\u001b[0m\n\u001b[1;32m    526\u001b[0m         \u001b[0mself\u001b[0m\u001b[0;34m.\u001b[0m\u001b[0m_records\u001b[0m\u001b[0;34m.\u001b[0m\u001b[0mappend\u001b[0m\u001b[0;34m(\u001b[0m\u001b[0mrecord\u001b[0m\u001b[0;34m)\u001b[0m\u001b[0;34m\u001b[0m\u001b[0;34m\u001b[0m\u001b[0m\n",
      "\u001b[0;31mValueError\u001b[0m: Sequences must all be the same length"
     ]
    }
   ],
   "source": [
    "msa= Bio.AlignIO.read('../BLAST/1E2K_blastp_31seq_align.fasta', 'fasta')"
   ]
  },
  {
   "cell_type": "code",
   "execution_count": null,
   "id": "cb278db5-78ae-48a6-a19d-f2295f3ad383",
   "metadata": {},
   "outputs": [],
   "source": []
  }
 ],
 "metadata": {
  "kernelspec": {
   "display_name": "Python 3 (ipykernel)",
   "language": "python",
   "name": "python3"
  },
  "language_info": {
   "codemirror_mode": {
    "name": "ipython",
    "version": 3
   },
   "file_extension": ".py",
   "mimetype": "text/x-python",
   "name": "python",
   "nbconvert_exporter": "python",
   "pygments_lexer": "ipython3",
   "version": "3.9.13"
  }
 },
 "nbformat": 4,
 "nbformat_minor": 5
}
