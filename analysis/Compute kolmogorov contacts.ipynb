{
 "cells": [
  {
   "cell_type": "code",
   "execution_count": 1,
   "metadata": {},
   "outputs": [],
   "source": [
    "import pickle\n",
    "import copy\n",
    "from scipy import stats\n",
    "import itertools\n",
    "from operator import itemgetter\n",
    "import pandas as pd\n",
    "import numpy as np\n",
    "import os\n",
    "import glob\n",
    "import mdtraj as md\n",
    "import tqdm"
   ]
  },
  {
   "cell_type": "code",
   "execution_count": 3,
   "metadata": {},
   "outputs": [],
   "source": [
    "# Using this cose you should use a MD that starts with a conformation and has a change in the midle of the MD and then\n",
    "# adopts another conformation. So, cut your MD file to be like that. I normaly clusterize my simulation and save smaller\n",
    "# MD's for the 2 conformations/clusters I want to use (I keep the resulting MD's with the same ammount of frames because \"Statistics\").\n",
    "# Then I load all them in the same variable as follows:\n",
    "\n",
    "MD = md.load(['CLUSTERS/PCA_5-6/THM_ATP_1.dcd','CLUSTERS/PCA_5-6/GCV_ATP_3.dcd'],top='/home/janet/Desktop/HSVTK/TOPS/MD_1E2K_GCV_ATP.pdb')\n",
    "MD = MD.atom_slice(MD.top.select('protein'))\n",
    "\n",
    "#Remember to know in what frame of this \"MD\" you have the conformational change. eg: MD1(2000 frames) + MD2(2500 frames): Change = 2000\n",
    "# This is important because you will introduce this value later as the variable \"key_frame\""
   ]
  },
  {
   "cell_type": "code",
   "execution_count": null,
   "metadata": {},
   "outputs": [],
   "source": [
    "# Now let's compute all the contacts for all the residues. Only residues that are at 5A at some point of the MD will be\n",
    "# computed. This is computed for all the atoms in the residue, not only CA. This value is enough, but if you want to change\n",
    "# it you can do it in the 15 line of the next cel."
   ]
  },
  {
   "cell_type": "code",
   "execution_count": 4,
   "metadata": {},
   "outputs": [
    {
     "name": "stderr",
     "output_type": "stream",
     "text": [
      "100%|██████████| 660/660 [28:00<00:00,  2.55s/it]\n"
     ]
    }
   ],
   "source": [
    "#nres = numero de residus del sistema\n",
    "#contacts will include the information the residues involved in the computed distance (shape= residue1,close_residues)\n",
    "#distances will include distances computed in arrays(shape = residue1,frames,close_residues)\n",
    "#neigh will include all atoms close to the ones in the selected residue (all in the tqdm loop) and for ll the simulation frames\n",
    "#merged_neig contains all atoms that are some point in the simulations are close to the selected residue\n",
    "#residues list contains residues that are affected selecting all atoms in merged_neigh\n",
    "#with residues, all contacts between close residues are computed and saved as contacts and distances using 'closest-heavy' scheme\n",
    "\n",
    "top = MD.top\n",
    "nres = [res.index for res in top.residues]\n",
    "contacts = []\n",
    "distances = []\n",
    "for i in tqdm.tqdm(list(range(len(nres)))):\n",
    "    atoms_in_residue = [atom.index for atom in top.residue(i).atoms]\n",
    "    neigh = md.compute_neighbors(MD,0.5,atoms_in_residue)\n",
    "    merged_neigh = list(set([b for a in neigh for b in a]))\n",
    "    merged_neigh.sort(key=int)\n",
    "    residues = list(set([top.atom(atn).residue.index for atn in merged_neigh]))\n",
    "    residues.sort(key=int)\n",
    "    new_res = []\n",
    "    for res in residues:\n",
    "        new_res.append(res)\n",
    "    residues = new_res\n",
    "    distances_i, contacts_i = md.compute_contacts(MD,contacts=list(zip([i]*len(residues),residues)), scheme='closest-heavy')\n",
    "    contacts.append(contacts_i) ; distances.append(distances_i)\n",
    "    del merged_neigh\n",
    "    del neigh\n",
    "    "
   ]
  },
  {
   "cell_type": "code",
   "execution_count": 5,
   "metadata": {},
   "outputs": [],
   "source": [
    "#I reeeeeeeeeeally recomend you to save the data you generated in a pickLe\n",
    "\n",
    "contacts_file = open('contacts_GCV_ATP_1-3.p', 'wb')\n",
    "distances_file = open('distances_GCV_ATP_1-3.p', 'wb')\n",
    "pickle.dump(contacts, contacts_file)\n",
    "pickle.dump(distances, distances_file)\n",
    "contacts_file.close()\n",
    "distances_file.close()"
   ]
  },
  {
   "cell_type": "code",
   "execution_count": null,
   "metadata": {},
   "outputs": [],
   "source": [
    "# singleKS function will compute the kolmogorov-smirnov test of one contact between the 2 conformations and output the data (This is only for visualization porpuses)\n",
    "# allKS will compute the kolmogorov-smirnov test for all the contacts between the 2 conformations (This will take long, probably)\n",
    "# respairs will compute the residues pairs with higher KS values (positive or negative).\n",
    "# atom_pairs will compute the closest atoms between the residues. This are normaly the ones that make the contact, but maybe not. Please check that the conversion Residue-Atom is ok\n",
    "# pymol_script will create you a script for visualizating this data on a session with the topology open. Please chech that the Residues shown are ok. Numbering between this libraries and programs are different. Also, maybe in dimers/tetramers, ... this can get messy\n"
   ]
  },
  {
   "cell_type": "code",
   "execution_count": 6,
   "metadata": {},
   "outputs": [],
   "source": [
    "#Remember the 'key_frame' variable I told you? Time to introduce the value\n",
    "key_frame = 2000\n",
    "\n",
    "#def singleKS(data1, data2):\n",
    "#    KS = stats.ks_2samp(data1, data2)\n",
    "#    frequencies1, edges1 = np.histogram(data1, 20)\n",
    "#    frequencies2, edges2 = np.histogram(data2, 20)\n",
    "#    hist1 = hv.Histogram((edges1, frequencies1), labels='Data1')\n",
    "#    hist2 = hv.Histogram((edges2, frequencies2), labels='Data2')\n",
    "#    return (hist1 * hist2).opts(width=600, title=f'K-M value: {KS[0]:.3f}          p-Value: {KS[1]:.3f}')\n",
    "\n",
    "def allKS(distances, contacts, top, key_frame):\n",
    "    KS_outs = copy.deepcopy(contacts)\n",
    "    for i in tqdm.tqdm(range(len(contacts))):\n",
    "        KS_outs[i] = KS_outs[i].astype('float64')\n",
    "        for j in range(len(contacts[i])):\n",
    "            out = stats.ks_2samp(distances[i][:,j][:key_frame], distances[i][:,j][key_frame:])\n",
    "            KS_outs[i][j] = out[0], out[1]\n",
    "    return KS_outs\n",
    "\n",
    "def respairs(KS, contacts, lim=10):\n",
    "    pairs = []\n",
    "    KSS = sorted([KS[r1][r2][0] for r1 in range(len(KS)) for r2 in range(len(KS[r1]))])[::-1][:lim]\n",
    "    for r1 in range(len(KS)):\n",
    "        for r2 in range(len(KS[r1])):\n",
    "            if KS[r1][r2][0] in KSS:\n",
    "                pairs.append([contacts[r1][r2][0], contacts[r1][r2][1]])\n",
    "    return pairs\n",
    "\n",
    "def atom_pairs(pairs,MD):\n",
    "    MD_top = MD[0]\n",
    "    top = MD.top \n",
    "    heavy_pairs = []\n",
    "    for i,j in pairs:\n",
    "        atoms1 = [atom.index for atom in top.residue(i).atoms if atom.element.name != 'hydrogen']\n",
    "        atoms2 = [atom.index for atom in top.residue(j).atoms if atom.element.name != 'hydrogen']\n",
    "        atom_pairs = list(itertools.product(atoms1, atoms2))\n",
    "        heavy_distances = md.compute_distances(MD_top,atom_pairs)\n",
    "        heavy_pairs.append(atom_pairs[np.argmin(heavy_distances)])\n",
    "    return heavy_pairs\n",
    "\n",
    "def pymol_script(pairs, top, name=''):\n",
    "    f = open(f'pymol_distances_{name}', 'w+')\n",
    "    f.write(f'hide all\\n')\n",
    "    f.write(f'show cartoon\\n')\n",
    "    for pair in pairs:\n",
    "        f.write(f'distance {top.atom(pair[0]+1).residue}-{top.atom(pair[1]+1).residue}, id {pair[0]+1}, id {pair[1]+1}\\n')\n",
    "        f.write(f'show sticks, resi {top.atom(pair[0]).residue.index+1}\\n')\n",
    "        f.write(f'show sticks, resi {top.atom(pair[1]).residue.index+1}\\n')\n",
    "    f.write('hide (hydro)')\n",
    "    f.close()"
   ]
  },
  {
   "cell_type": "code",
   "execution_count": null,
   "metadata": {},
   "outputs": [],
   "source": [
    "# let's do it 1 by 1"
   ]
  },
  {
   "cell_type": "code",
   "execution_count": 7,
   "metadata": {},
   "outputs": [
    {
     "name": "stderr",
     "output_type": "stream",
     "text": [
      "100%|██████████| 660/660 [00:19<00:00, 33.59it/s]\n"
     ]
    }
   ],
   "source": [
    "# Compute all Kolmogorow-Smirnov tests\n",
    "KS = allKS(distances,contacts,top,key_frame)"
   ]
  },
  {
   "cell_type": "code",
   "execution_count": 8,
   "metadata": {},
   "outputs": [
    {
     "data": {
      "text/plain": [
       "[[16, 37],\n",
       " [16, 39],\n",
       " [16, 658],\n",
       " [20, 116],\n",
       " [20, 117],\n",
       " [37, 16],\n",
       " [37, 117],\n",
       " [39, 16],\n",
       " [116, 20],\n",
       " [117, 20],\n",
       " [117, 37],\n",
       " [219, 224],\n",
       " [220, 224],\n",
       " [220, 225],\n",
       " [224, 219],\n",
       " [224, 220],\n",
       " [225, 220],\n",
       " [550, 554],\n",
       " [551, 554],\n",
       " [554, 550],\n",
       " [554, 551],\n",
       " [658, 16]]"
      ]
     },
     "execution_count": 8,
     "metadata": {},
     "output_type": "execute_result"
    }
   ],
   "source": [
    "# Show the 20 residue contacts that change the most. Negative values for KS (-1) mean anti-correlation \n",
    "lim=20\n",
    "respairs(KS, contacts, lim)"
   ]
  },
  {
   "cell_type": "code",
   "execution_count": 9,
   "metadata": {},
   "outputs": [
    {
     "data": {
      "text/plain": [
       "[(262, 587),\n",
       " (262, 616),\n",
       " (262, 10014),\n",
       " (316, 1720),\n",
       " (316, 1732),\n",
       " (587, 262),\n",
       " (587, 1745),\n",
       " (616, 262),\n",
       " (1720, 316),\n",
       " (1732, 316),\n",
       " (1745, 587),\n",
       " (3352, 3419),\n",
       " (3362, 3419),\n",
       " (3362, 3424),\n",
       " (3419, 3352),\n",
       " (3419, 3362),\n",
       " (3424, 3362),\n",
       " (8376, 8433),\n",
       " (8399, 8431),\n",
       " (8433, 8376),\n",
       " (8431, 8399),\n",
       " (10014, 262)]"
      ]
     },
     "execution_count": 9,
     "metadata": {},
     "output_type": "execute_result"
    }
   ],
   "source": [
    "# Please check thet the atom pairs are well computed.\n",
    "pairs = atom_pairs(respairs(KS, contacts, lim),MD)\n",
    "pairs"
   ]
  },
  {
   "cell_type": "code",
   "execution_count": 11,
   "metadata": {},
   "outputs": [],
   "source": [
    "# Visualize the data. Enjoy!\n",
    "pymol_script(atom_pairs(respairs(KS, contacts,lim),MD), top, 'GCV_ATP_1.pml')"
   ]
  },
  {
   "cell_type": "code",
   "execution_count": null,
   "metadata": {},
   "outputs": [],
   "source": []
  }
 ],
 "metadata": {
  "kernelspec": {
   "display_name": "Python 3",
   "language": "python",
   "name": "python3"
  },
  "language_info": {
   "codemirror_mode": {
    "name": "ipython",
    "version": 3
   },
   "file_extension": ".py",
   "mimetype": "text/x-python",
   "name": "python",
   "nbconvert_exporter": "python",
   "pygments_lexer": "ipython3",
   "version": "3.8.12"
  }
 },
 "nbformat": 4,
 "nbformat_minor": 4
}
