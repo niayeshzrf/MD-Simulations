{
 "cells": [
  {
   "cell_type": "code",
   "execution_count": 6,
   "id": "49b04d57-dd30-4f43-b785-ceeaaa9de882",
   "metadata": {},
   "outputs": [
    {
     "ename": "ModuleNotFoundError",
     "evalue": "No module named 'prolif'",
     "output_type": "error",
     "traceback": [
      "\u001b[0;31m---------------------------------------------------------------------------\u001b[0m",
      "\u001b[0;31mModuleNotFoundError\u001b[0m                       Traceback (most recent call last)",
      "\u001b[0;32m<ipython-input-6-43c4b83ac8c0>\u001b[0m in \u001b[0;36m<module>\u001b[0;34m\u001b[0m\n\u001b[0;32m----> 1\u001b[0;31m \u001b[0;32mimport\u001b[0m \u001b[0mprolif\u001b[0m \u001b[0;32mas\u001b[0m \u001b[0mplf\u001b[0m\u001b[0;34m\u001b[0m\u001b[0;34m\u001b[0m\u001b[0m\n\u001b[0m\u001b[1;32m      2\u001b[0m \u001b[0;32mfrom\u001b[0m \u001b[0mprolif\u001b[0m\u001b[0;34m.\u001b[0m\u001b[0mplotting\u001b[0m\u001b[0;34m.\u001b[0m\u001b[0mnetwork\u001b[0m \u001b[0;32mimport\u001b[0m \u001b[0mLigNetwork\u001b[0m\u001b[0;34m\u001b[0m\u001b[0;34m\u001b[0m\u001b[0m\n\u001b[1;32m      3\u001b[0m \u001b[0;34m\u001b[0m\u001b[0m\n\u001b[1;32m      4\u001b[0m \u001b[0;32mimport\u001b[0m \u001b[0msys\u001b[0m\u001b[0;34m,\u001b[0m \u001b[0mos\u001b[0m\u001b[0;34m\u001b[0m\u001b[0;34m\u001b[0m\u001b[0m\n\u001b[1;32m      5\u001b[0m \u001b[0msys\u001b[0m\u001b[0;34m.\u001b[0m\u001b[0mpath\u001b[0m\u001b[0;34m.\u001b[0m\u001b[0minsert\u001b[0m\u001b[0;34m(\u001b[0m\u001b[0;36m1\u001b[0m\u001b[0;34m,\u001b[0m \u001b[0;34m'utilities/'\u001b[0m\u001b[0;34m)\u001b[0m\u001b[0;34m\u001b[0m\u001b[0;34m\u001b[0m\u001b[0m\n",
      "\u001b[0;31mModuleNotFoundError\u001b[0m: No module named 'prolif'"
     ]
    }
   ],
   "source": [
    "import prolif as plf\n",
    "from prolif.plotting.network import LigNetwork\n",
    "\n",
    "import sys, os\n",
    "sys.path.insert(1, 'utilities/')\n",
    "from utils import fix_protein, getbox, generate_ledock_file, pdbqt_to_sdf, dok_to_sdf\n",
    "\n",
    "import warnings\n",
    "warnings.filterwarnings(\"ignore\")\n",
    "%config Completer.use_jedi = False"
   ]
  },
  {
   "cell_type": "code",
   "execution_count": null,
   "id": "688290e8-2119-4310-a4a5-9e70a05024e8",
   "metadata": {},
   "outputs": [],
   "source": [
    "cmd.load(filename='1AZ8_clean_H.pdb',format='pdb',object='prot')\n",
    "cmd.load(filename='1AZ8_lig_H.mol2',format='mol2',object='lig')\n",
    "\n",
    "X,Y,Z= getbox(selection='lig',extending=5.0,software='ledock')\n",
    "cmd.delete('all')\n",
    "\n",
    "print(X,'\\n',Y,'\\n',Z)"
   ]
  },
  {
   "cell_type": "code",
   "execution_count": null,
   "id": "1608ea51-89dc-43e5-a7b4-bfaf1684f738",
   "metadata": {},
   "outputs": [],
   "source": [
    "generate_ledock_file(receptor='1AZ8_clean_H.pdb',x=[X['minX'],X['maxX']],\n",
    "                     y=[Y['minY'],Y['maxY']],\n",
    "                     z=[Z['minZ'],Z['maxZ']],\n",
    "                     n_poses=10,\n",
    "                     rmsd=1.0,\n",
    "                     l_list='1AZ8_lig_H.mol2', \n",
    "                     l_list_outfile='ledock_ligand.list',\n",
    "                     out='dock.in')"
   ]
  },
  {
   "cell_type": "code",
   "execution_count": null,
   "id": "b16e01ae-92b5-40ae-8242-abee30eb7ae0",
   "metadata": {},
   "outputs": [],
   "source": [
    "!../../bin/ledock_linux_x86 #Launch this cell to see parameters"
   ]
  },
  {
   "cell_type": "code",
   "execution_count": null,
   "id": "b3c880dd-cca7-4db1-a780-2413d5d56e3d",
   "metadata": {},
   "outputs": [],
   "source": [
    "!../../bin/ledock_linux_x86 {'dock.in'}"
   ]
  },
  {
   "cell_type": "code",
   "execution_count": null,
   "id": "6df003d6-8fda-43bc-971f-f5975cd9933d",
   "metadata": {},
   "outputs": [],
   "source": [
    "dok_to_sdf(dok_file='1AZ8_lig_H.dok',output='1AZ8_lig_ledock_out.sdf')"
   ]
  },
  {
   "cell_type": "code",
   "execution_count": null,
   "id": "3a682a14-f931-4667-85f0-346f9e3062b0",
   "metadata": {},
   "outputs": [],
   "source": [
    "view = py3Dmol.view()\n",
    "view.removeAllModels()\n",
    "view.setViewStyle({'style':'outline','color':'black','width':0.1})\n",
    "\n",
    "view.addModel(open('1AZ8_clean_H.pdb','r').read(),format='pdb')\n",
    "Prot=view.getModel()\n",
    "Prot.setStyle({'cartoon':{'arrows':True, 'tubes':True, 'style':'oval', 'color':'white'}})\n",
    "view.addSurface(py3Dmol.VDW,{'opacity':0.6,'color':'white'})\n",
    "\n",
    "\n",
    "view.addModel(open('1AZ8_lig_H.mol2','r').read(),format='mol2')\n",
    "ref_m = view.getModel()\n",
    "ref_m.setStyle({},{'stick':{'colorscheme':'magentaCarbon','radius':0.2}})\n",
    "\n",
    "results=Chem.SDMolSupplier('1AZ8_lig_ledock_out.sdf')\n",
    "\n",
    "\n",
    "p=Chem.MolToMolBlock(results[0])\n",
    "\n",
    "print('Reference: Magenta | LeDock Pose: Cyan')\n",
    "print ('Pose: {} | Score: {}'.format(results[0].GetProp('Pose'),results[0].GetProp('Score')))\n",
    "\n",
    "view.addModel(p,'mol')\n",
    "x = view.getModel()\n",
    "x.setStyle({},{'stick':{'colorscheme':'cyanCarbon','radius':0.2}})\n",
    "\n",
    "view.zoomTo()\n",
    "view.show()"
   ]
  },
  {
   "cell_type": "code",
   "execution_count": null,
   "id": "cd585e26-be13-441c-9a37-4237a86357a2",
   "metadata": {},
   "outputs": [],
   "source": [
    "# load protein\n",
    "prot = mda.Universe(\"1AZ8_clean_H_fix.pdb\",guess_bonds=True)\n",
    "prot = plf.Molecule.from_mda(prot)\n",
    "prot.n_residues\n",
    "\n",
    "# load ligands\n",
    "path = str('1AZ8_lig_ledock_out.sdf')\n",
    "lig_suppl = list(plf.sdf_supplier(path))\n",
    "# generate fingerprint\n",
    "fp = plf.Fingerprint()\n",
    "fp.run_from_iterable(lig_suppl, prot)\n",
    "results_df = fp.to_dataframe(return_atoms=True)\n",
    "results_df\n"
   ]
  },
  {
   "cell_type": "code",
   "execution_count": null,
   "id": "3dbeedf7-41a8-4802-9ae5-89b2c6f19ee3",
   "metadata": {},
   "outputs": [],
   "source": [
    "net = LigNetwork.from_ifp(results_df,lig_suppl[0],kind=\"frame\", frame=0,rotation=270)\n",
    "net.display()"
   ]
  }
 ],
 "metadata": {
  "kernelspec": {
   "display_name": "Python 3 (ipykernel)",
   "language": "python",
   "name": "python3"
  },
  "language_info": {
   "codemirror_mode": {
    "name": "ipython",
    "version": 3
   },
   "file_extension": ".py",
   "mimetype": "text/x-python",
   "name": "python",
   "nbconvert_exporter": "python",
   "pygments_lexer": "ipython3",
   "version": "3.9.13"
  }
 },
 "nbformat": 4,
 "nbformat_minor": 5
}
