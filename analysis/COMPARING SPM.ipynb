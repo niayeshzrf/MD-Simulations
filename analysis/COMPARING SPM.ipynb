{
 "cells": [
  {
   "cell_type": "code",
   "execution_count": 3,
   "id": "803eb8cc-5bbe-4ab2-8a89-561d334502d3",
   "metadata": {},
   "outputs": [],
   "source": [
    "# Useful stuff\n",
    "import numpy as np\n",
    "from itertools import combinations\n",
    "import os\n",
    "import mdtraj as md\n",
    "import matplotlib as mpl\n",
    "import matplotlib.pyplot as plt\n",
    "from scipy.spatial.distance import cdist\n",
    "from scipy.ndimage import gaussian_filter\n",
    "import pandas as pd\n",
    "import pytraj as pt\n",
    "import glob\n",
    "\n",
    "# PyEmma\n",
    "import pyemma\n",
    "import pyemma.msm as msm\n",
    "import pyemma.plots as mpl\n",
    "import pyemma.coordinates as coor"
   ]
  },
  {
   "cell_type": "code",
   "execution_count": 4,
   "id": "6be0be0c-f693-4b9a-98eb-7e41d156de2a",
   "metadata": {},
   "outputs": [],
   "source": [
    "#Read SPM outputs to select the first column as list. We can read directly with pandas"
   ]
  },
  {
   "cell_type": "code",
   "execution_count": 50,
   "id": "25ff6e9c-639c-4dfa-90a3-023c5d96f513",
   "metadata": {},
   "outputs": [],
   "source": [
    "APO = pd.Series(open('../SHORTEST/APO/output_shortest_path_APO.out'))"
   ]
  },
  {
   "cell_type": "code",
   "execution_count": 51,
   "id": "d603e551-4487-41b5-803d-02d1dc59f42a",
   "metadata": {},
   "outputs": [
    {
     "data": {
      "text/plain": [
       "0      Residue1 - Residue2 - Weight Path\\n\n",
       "1                  279 280 3.55385989122\\n\n",
       "2                  280 281 3.29978082637\\n\n",
       "3                  281 282 4.56287036285\\n\n",
       "4                  282 283 4.34369672863\\n\n",
       "5                  283 284 3.84690315772\\n\n",
       "6                  163 164 3.64274697622\\n\n",
       "7                  306 307 5.15301566686\\n\n",
       "8                   307 97 7.28914684633\\n\n",
       "9                    97 96 4.49224774738\\n\n",
       "10                   96 94 4.49143599318\\n\n",
       "11                   94 91 4.44922477474\\n\n",
       "12                   91 88 4.44110723273\\n\n",
       "13                   88 85 5.31455475282\\n\n",
       "14                   85 83 3.37730335254\\n\n",
       "15                   83 80 4.76093838786\\n\n",
       "16                   80 79 4.19189869308\\n\n",
       "17                   73 70 3.43980842601\\n\n",
       "18                   70 68 3.19912330546\\n\n",
       "19                   68 67 5.49638769381\\n\n",
       "20                   67 66 4.74997970614\\n\n",
       "21                   66 61 4.00073057878\\n\n",
       "22                   61 60 3.01201396217\\n\n",
       "23                   97 95 5.93635847066\\n\n",
       "24                   95 92 7.21527721406\\n\n",
       "25                   92 89 7.52333793327\\n\n",
       "26                  306 305 5.0044646481\\n\n",
       "27                   8 119 5.43834726845\\n\n",
       "28                 119 120 6.78301810212\\n\n",
       "29                 127 130 3.41951457099\\n\n",
       "30                 132 138 3.64964688692\\n\n",
       "31                 154 153 3.26974592094\\n\n",
       "dtype: object"
      ]
     },
     "execution_count": 51,
     "metadata": {},
     "output_type": "execute_result"
    }
   ],
   "source": [
    "APO[0:32]"
   ]
  },
  {
   "cell_type": "code",
   "execution_count": 68,
   "id": "55004b96-86f4-4292-a089-f62b14ddaa33",
   "metadata": {},
   "outputs": [
    {
     "data": {
      "text/plain": [
       "'R'"
      ]
     },
     "execution_count": 68,
     "metadata": {},
     "output_type": "execute_result"
    }
   ],
   "source": [
    "APO[0][1]"
   ]
  },
  {
   "cell_type": "code",
   "execution_count": 43,
   "id": "a0fbd6c9-0b2a-4160-81bb-5a65043ed764",
   "metadata": {},
   "outputs": [
    {
     "data": {
      "text/plain": [
       "'8 1'"
      ]
     },
     "execution_count": 43,
     "metadata": {},
     "output_type": "execute_result"
    }
   ],
   "source": [
    "APO[27][0:3]"
   ]
  },
  {
   "cell_type": "code",
   "execution_count": 13,
   "id": "fcf92910-c519-4479-9132-72b526d7b7de",
   "metadata": {},
   "outputs": [
    {
     "data": {
      "text/plain": [
       "140"
      ]
     },
     "execution_count": 13,
     "metadata": {},
     "output_type": "execute_result"
    }
   ],
   "source": [
    "len(APO)"
   ]
  },
  {
   "cell_type": "code",
   "execution_count": null,
   "id": "51421ba0-f3ba-4e46-bbcf-1fa864e379fa",
   "metadata": {},
   "outputs": [],
   "source": []
  },
  {
   "cell_type": "code",
   "execution_count": 66,
   "id": "a35da095-b980-4b89-9824-3786a18d1bfb",
   "metadata": {},
   "outputs": [],
   "source": [
    "\n",
    "list1= []\n",
    "\n",
    "for i in APO: \n",
    "    list1.append(s)"
   ]
  },
  {
   "cell_type": "code",
   "execution_count": 36,
   "id": "7d9fdb4d-4d4b-434c-ae52-f18a8e067b6e",
   "metadata": {},
   "outputs": [],
   "source": [
    "del list1[1]"
   ]
  },
  {
   "cell_type": "code",
   "execution_count": 53,
   "id": "4d9dfb47-ad3f-4747-9ac5-f14174885ceb",
   "metadata": {},
   "outputs": [
    {
     "data": {
      "text/plain": [
       "0       Residue1 - Residue2 - Weight Path\\n\n",
       "1                   279 280 3.55385989122\\n\n",
       "2                   280 281 3.29978082637\\n\n",
       "3                   281 282 4.56287036285\\n\n",
       "4                   282 283 4.34369672863\\n\n",
       "                       ...                 \n",
       "135                  84 123 3.06964851043\\n\n",
       "136                 335 334 3.06843087913\\n\n",
       "137                 477 148 5.25489081906\\n\n",
       "138                 130 132 3.36796817924\\n\n",
       "139                 274 271 3.50677814758\\n\n",
       "Length: 140, dtype: object"
      ]
     },
     "execution_count": 53,
     "metadata": {},
     "output_type": "execute_result"
    }
   ],
   "source": [
    "APO"
   ]
  },
  {
   "cell_type": "code",
   "execution_count": 54,
   "id": "f71c4143-543c-4dc8-a569-553602992471",
   "metadata": {},
   "outputs": [
    {
     "data": {
      "text/plain": [
       "' Residue1 - Residue2 - Weight Path\\n'"
      ]
     },
     "execution_count": 54,
     "metadata": {},
     "output_type": "execute_result"
    }
   ],
   "source": [
    "APO[0]"
   ]
  },
  {
   "cell_type": "code",
   "execution_count": 64,
   "id": "9db3467c-9b60-4a7f-b0d7-1ea7f6e66e26",
   "metadata": {},
   "outputs": [
    {
     "data": {
      "text/plain": [
       "['279', '280 3.55385989122\\n']"
      ]
     },
     "execution_count": 64,
     "metadata": {},
     "output_type": "execute_result"
    }
   ],
   "source": [
    "list1 [1]"
   ]
  },
  {
   "cell_type": "code",
   "execution_count": null,
   "id": "dcdcf6c2-fe56-4def-85ed-d24aae0afe76",
   "metadata": {},
   "outputs": [],
   "source": []
  },
  {
   "cell_type": "code",
   "execution_count": null,
   "id": "27746cf7-83a3-47c8-bd94-53b53abc8fff",
   "metadata": {},
   "outputs": [],
   "source": []
  },
  {
   "cell_type": "code",
   "execution_count": null,
   "id": "f93b68ac-d200-4fd5-bac5-b78d4fcd4f83",
   "metadata": {},
   "outputs": [],
   "source": []
  }
 ],
 "metadata": {
  "kernelspec": {
   "display_name": "Python 3",
   "language": "python",
   "name": "python3"
  },
  "language_info": {
   "codemirror_mode": {
    "name": "ipython",
    "version": 3
   },
   "file_extension": ".py",
   "mimetype": "text/x-python",
   "name": "python",
   "nbconvert_exporter": "python",
   "pygments_lexer": "ipython3",
   "version": "3.8.12"
  }
 },
 "nbformat": 4,
 "nbformat_minor": 5
}
